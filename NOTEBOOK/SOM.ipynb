{
 "cells": [
  {
   "cell_type": "code",
   "execution_count": 1,
   "metadata": {},
   "outputs": [],
   "source": [
    "from matplotlib.pyplot import *\n",
    "import matplotlib.pyplot as plt\n",
    "from math import *\n",
    "import pandas as pd\n",
    "import matplotlib.gridspec as gridspec\n",
    "import numpy as np\n",
    "from scipy.optimize import curve_fit\n",
    "from astropy.io import fits\n",
    "from astropy.table import Table\n",
    "from astropy.coordinates import SkyCoord, ICRS, Galactic\n",
    "import astropy.units as units\n",
    "from matplotlib.colors import LogNorm\n",
    "import galpy.util.bovy_coords as gub\n",
    "from astropy.io import ascii\n",
    "import os\n",
    "import seaborn as sns\n",
    "from scipy.ndimage import gaussian_filter\n",
    "\n",
    "from random import *\n",
    "sys.path.append(\"../TOOLBOX/\")\n",
    "from growing_region import *\n",
    "from tool import *\n",
    "\n",
    "\n",
    "from mpl_toolkits.axes_grid1 import make_axes_locatable\n",
    "import matplotlib.ticker as mtick\n",
    "\n",
    "\n",
    "\n",
    "# in LSR frame\n",
    "U_sun, V_sun, W_sun = 11.1, 12.24, 7.25\n",
    "X_sun = 8.3\n",
    "V_LSR = 232\n",
    "\n",
    "\n",
    "VSUN = np.array([-U_sun, V_LSR, W_sun])\n",
    "sns.set_style(\"whitegrid\")\n",
    "%config InlineBackend.figure_format = 'retina'\n",
    "%matplotlib widget\n",
    "\n",
    "\n",
    "# Figure setting\n",
    "fig_dpi      = 100\n",
    "fig_typeface = 'Helvetica'\n",
    "fig_family   = 'sans-serif'\n",
    "fig_style    = 'normal'\n",
    "\n",
    "\n",
    "rcParams[\"figure.dpi\"] = fig_dpi\n"
   ]
  },
  {
   "cell_type": "code",
   "execution_count": 4,
   "metadata": {},
   "outputs": [],
   "source": [
    "\n",
    "fig_path = \"../FIG/\" \n",
    "data_path = \"../DATA/\" \n",
    "res_path = \"../RES/\" \n",
    "\n",
    "\n"
   ]
  },
  {
   "cell_type": "code",
   "execution_count": 5,
   "metadata": {},
   "outputs": [
    {
     "name": "stdout",
     "output_type": "stream",
     "text": [
      "3540\n",
      "[[ 3 17]\n",
      " [10 37]\n",
      " [ 0 49]\n",
      " ...\n",
      " [37 29]\n",
      " [13  0]\n",
      " [29  0]]\n",
      "[ 0.01922461  0.01977256  0.01045799 ... -1.15095977 -0.76638344\n",
      " -0.78750401]\n"
     ]
    }
   ],
   "source": [
    "u_mtx = np.load(res_path + \"u_gc.npy\")\n",
    "w = np.load(res_path + \"w_gc.npy\")\n",
    "d_vw_d10 = np.load(res_path + \"d_vw_gc.npy\")\n",
    "u_vw_d10 = np.log10(d_vw_d10)\n",
    "map_d10 = np.load(res_path + \"map_gc.npy\")\n",
    "\n",
    "m = u_mtx.shape[0] + 1\n",
    "n = u_mtx.shape[1] + 1\n",
    "\n",
    "\n",
    "xm, ym = np.mgrid[slice(0, m, 1),slice(0, n, 1)]\n",
    "id_d10 = map_d10[:, 0] * m + map_d10[:, 1]\n",
    "\n",
    "\n",
    "\n",
    "print (len(id_d10))\n",
    "print (map_d10)\n",
    "\n",
    "print (u_vw_d10)"
   ]
  },
  {
   "cell_type": "code",
   "execution_count": 6,
   "metadata": {},
   "outputs": [
    {
     "name": "stdout",
     "output_type": "stream",
     "text": [
      "[-3.1725216 -3.146577  -3.1222045 ... -3.0120807 -3.0801418 -3.1521797]\n"
     ]
    }
   ],
   "source": [
    "#u-matrix gives diff b/w weight vectors of neighboring neurons\n",
    "\n",
    "u = u_mtx.flatten()\n",
    "\n",
    "logu_mtx = np.log10(u_mtx)\n",
    "\n",
    "logu = np.log10(u)\n",
    "\n",
    "print (logu)"
   ]
  },
  {
   "cell_type": "code",
   "execution_count": null,
   "metadata": {},
   "outputs": [],
   "source": []
  }
 ],
 "metadata": {
  "kernelspec": {
   "display_name": "Python 3",
   "language": "python",
   "name": "python3"
  },
  "language_info": {
   "codemirror_mode": {
    "name": "ipython",
    "version": 3
   },
   "file_extension": ".py",
   "mimetype": "text/x-python",
   "name": "python",
   "nbconvert_exporter": "python",
   "pygments_lexer": "ipython3",
   "version": "3.6.12"
  }
 },
 "nbformat": 4,
 "nbformat_minor": 4
}
